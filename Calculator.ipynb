{
 "cells": [
  {
   "cell_type": "markdown",
   "id": "2b9c1f4a-619d-461c-af07-49a4648a4504",
   "metadata": {},
   "source": [
    "# **Week02, - MSc AI Hull, Python Intro and Library**\n",
    "### Task01, Simple Calculator ###\n",
    "\n",
    "#### **Summary** ####\n",
    "This task is part of MSc AI Hull Task Assignment for Week02 Course about Python Introduction and Library. \n",
    "The Task01 is to create a simple calculator using python language.\n",
    "\n",
    "The simple calculator will be limited to 4 operations, Substraction, Addition, Multiplication and Division with following steps :\n",
    "> 1. Defining Function for each operation\n",
    "> 2. Defining Mainboard Function for user interface\n",
    "> 3. Selecting Operation from user input will call operation function\n",
    "> 4. Call the Mainboard Function to run program"
   ]
  },
  {
   "cell_type": "code",
   "execution_count": 28,
   "id": "49b8eb32-2066-412b-91cc-49fcac33d2a5",
   "metadata": {},
   "outputs": [
    {
     "name": "stdout",
     "output_type": "stream",
     "text": [
      "Choose calculator function below according to index number :\n",
      "1. Substraction\n",
      "2. Addition\n",
      "3. Multiplication\n",
      "4. Division\n"
     ]
    },
    {
     "name": "stdin",
     "output_type": "stream",
     "text": [
      "selection = 3\n",
      "A number= 4\n",
      "B number= 2\n"
     ]
    },
    {
     "name": "stdout",
     "output_type": "stream",
     "text": [
      "4x2 = 8\n"
     ]
    }
   ],
   "source": [
    "def substraction(a,b):\n",
    "    return a-b\n",
    "def addition(a,b):\n",
    "    return a+b\n",
    "def multiplication(a,b):\n",
    "    return a*b\n",
    "def division(a,b):\n",
    "    if b == 0 : \n",
    "        return \"error, division by 0\"\n",
    "    return a/b\n",
    "def calc_mainboard():\n",
    "    print(\"Choose calculator function below according to index number :\")\n",
    "    print(\"1. Substraction\")\n",
    "    print(\"2. Addition\")\n",
    "    print(\"3. Multiplication\")\n",
    "    print(\"4. Division\")\n",
    "    selection = input(\"selection =\")\n",
    "\n",
    "    if selection in ['1','2','3','4']:\n",
    "        c = int(input('A number='))\n",
    "        d = int(input('B number='))\n",
    "        if selection == '1':\n",
    "            print(f\"{c}-{d} = {substraction(c,d)}\")\n",
    "        elif selection == '2':\n",
    "            print(f\"{c}+{d} = {addition(c,d)}\")\n",
    "        elif selection == '3':\n",
    "            print(f\"{c}x{d} = {multiplication(c,d)}\")\n",
    "        elif selection == '4':\n",
    "            print(f\"{c}:{d} = {division(c,d)}\")\n",
    "    else : print(\"error input\")\n",
    "calc_mainboard()"
   ]
  },
  {
   "cell_type": "code",
   "execution_count": null,
   "id": "94c2592a-9b8f-434c-afc8-553cb7c0c8f3",
   "metadata": {},
   "outputs": [],
   "source": []
  }
 ],
 "metadata": {
  "kernelspec": {
   "display_name": "Python 3 (ipykernel)",
   "language": "python",
   "name": "python3"
  },
  "language_info": {
   "codemirror_mode": {
    "name": "ipython",
    "version": 3
   },
   "file_extension": ".py",
   "mimetype": "text/x-python",
   "name": "python",
   "nbconvert_exporter": "python",
   "pygments_lexer": "ipython3",
   "version": "3.12.4"
  }
 },
 "nbformat": 4,
 "nbformat_minor": 5
}
